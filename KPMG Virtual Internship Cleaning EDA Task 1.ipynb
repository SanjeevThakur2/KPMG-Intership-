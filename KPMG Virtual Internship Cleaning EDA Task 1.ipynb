{
 "cells": [
  {
   "cell_type": "markdown",
   "id": "175595f2",
   "metadata": {},
   "source": [
    "# Sprocket Central Pty Ltd Data Set"
   ]
  },
  {
   "cell_type": "markdown",
   "id": "5e1e1926",
   "metadata": {},
   "source": [
    "#### importing necessery libraries for future analysis of the dataset"
   ]
  },
  {
   "cell_type": "code",
   "execution_count": 1,
   "id": "1ac8f3cc",
   "metadata": {},
   "outputs": [],
   "source": [
    "import numpy as np\n",
    "import statistics as st\n",
    "import pandas as pd\n",
    "import matplotlib.pyplot as plt\n",
    "import seaborn as sns\n",
    "import warnings\n",
    "warnings.filterwarnings('ignore')\n",
    "from pandas import ExcelWriter\n",
    "from pandas import ExcelFile"
   ]
  },
  {
   "cell_type": "markdown",
   "id": "d78fd67a",
   "metadata": {},
   "source": [
    "#### Creating data frame"
   ]
  },
  {
   "cell_type": "code",
   "execution_count": 2,
   "id": "b7e00950",
   "metadata": {},
   "outputs": [],
   "source": [
    "df = pd.read_excel(\"KPMG.xlsx\")"
   ]
  },
  {
   "cell_type": "markdown",
   "id": "a911ef41",
   "metadata": {},
   "source": [
    "#### creating separate variable for data set"
   ]
  },
  {
   "cell_type": "code",
   "execution_count": 3,
   "id": "418ce5c3",
   "metadata": {},
   "outputs": [],
   "source": [
    "transaction = pd.read_excel(\"KPMG.xlsx\",sheet_name = 1,skiprows = 1)\n",
    "CustomerDemographic = pd.read_excel(\"KPMG.xlsx\", sheet_name = 3 , skiprows = 1)\n",
    "CustomerAddress = pd.read_excel(\"KPMG.xlsx\", sheet_name = 4, skiprows = 1)"
   ]
  },
  {
   "cell_type": "markdown",
   "id": "593ce6e3",
   "metadata": {},
   "source": [
    "#### -------------------------------------------------------------------------------------------------------------------------------------------------------------------------------------------------------------"
   ]
  },
  {
   "cell_type": "markdown",
   "id": "d6792046",
   "metadata": {},
   "source": [
    "#### checking transaction data set"
   ]
  },
  {
   "cell_type": "code",
   "execution_count": 4,
   "id": "4aa7baa6",
   "metadata": {},
   "outputs": [
    {
     "data": {
      "text/html": [
       "<div>\n",
       "<style scoped>\n",
       "    .dataframe tbody tr th:only-of-type {\n",
       "        vertical-align: middle;\n",
       "    }\n",
       "\n",
       "    .dataframe tbody tr th {\n",
       "        vertical-align: top;\n",
       "    }\n",
       "\n",
       "    .dataframe thead th {\n",
       "        text-align: right;\n",
       "    }\n",
       "</style>\n",
       "<table border=\"1\" class=\"dataframe\">\n",
       "  <thead>\n",
       "    <tr style=\"text-align: right;\">\n",
       "      <th></th>\n",
       "      <th>transaction_id</th>\n",
       "      <th>product_id</th>\n",
       "      <th>customer_id</th>\n",
       "      <th>transaction_date</th>\n",
       "      <th>online_order</th>\n",
       "      <th>order_status</th>\n",
       "      <th>brand</th>\n",
       "      <th>product_line</th>\n",
       "      <th>product_class</th>\n",
       "      <th>product_size</th>\n",
       "      <th>list_price</th>\n",
       "      <th>standard_cost</th>\n",
       "      <th>product_first_sold_date</th>\n",
       "    </tr>\n",
       "  </thead>\n",
       "  <tbody>\n",
       "    <tr>\n",
       "      <th>0</th>\n",
       "      <td>1</td>\n",
       "      <td>2</td>\n",
       "      <td>2950</td>\n",
       "      <td>2017-02-25</td>\n",
       "      <td>0.0</td>\n",
       "      <td>Approved</td>\n",
       "      <td>Solex</td>\n",
       "      <td>Standard</td>\n",
       "      <td>medium</td>\n",
       "      <td>medium</td>\n",
       "      <td>71.49</td>\n",
       "      <td>53.62</td>\n",
       "      <td>41245.0</td>\n",
       "    </tr>\n",
       "    <tr>\n",
       "      <th>1</th>\n",
       "      <td>2</td>\n",
       "      <td>3</td>\n",
       "      <td>3120</td>\n",
       "      <td>2017-05-21</td>\n",
       "      <td>1.0</td>\n",
       "      <td>Approved</td>\n",
       "      <td>Trek Bicycles</td>\n",
       "      <td>Standard</td>\n",
       "      <td>medium</td>\n",
       "      <td>large</td>\n",
       "      <td>2091.47</td>\n",
       "      <td>388.92</td>\n",
       "      <td>41701.0</td>\n",
       "    </tr>\n",
       "    <tr>\n",
       "      <th>2</th>\n",
       "      <td>3</td>\n",
       "      <td>37</td>\n",
       "      <td>402</td>\n",
       "      <td>2017-10-16</td>\n",
       "      <td>0.0</td>\n",
       "      <td>Approved</td>\n",
       "      <td>OHM Cycles</td>\n",
       "      <td>Standard</td>\n",
       "      <td>low</td>\n",
       "      <td>medium</td>\n",
       "      <td>1793.43</td>\n",
       "      <td>248.82</td>\n",
       "      <td>36361.0</td>\n",
       "    </tr>\n",
       "    <tr>\n",
       "      <th>3</th>\n",
       "      <td>4</td>\n",
       "      <td>88</td>\n",
       "      <td>3135</td>\n",
       "      <td>2017-08-31</td>\n",
       "      <td>0.0</td>\n",
       "      <td>Approved</td>\n",
       "      <td>Norco Bicycles</td>\n",
       "      <td>Standard</td>\n",
       "      <td>medium</td>\n",
       "      <td>medium</td>\n",
       "      <td>1198.46</td>\n",
       "      <td>381.10</td>\n",
       "      <td>36145.0</td>\n",
       "    </tr>\n",
       "    <tr>\n",
       "      <th>4</th>\n",
       "      <td>5</td>\n",
       "      <td>78</td>\n",
       "      <td>787</td>\n",
       "      <td>2017-10-01</td>\n",
       "      <td>1.0</td>\n",
       "      <td>Approved</td>\n",
       "      <td>Giant Bicycles</td>\n",
       "      <td>Standard</td>\n",
       "      <td>medium</td>\n",
       "      <td>large</td>\n",
       "      <td>1765.30</td>\n",
       "      <td>709.48</td>\n",
       "      <td>42226.0</td>\n",
       "    </tr>\n",
       "  </tbody>\n",
       "</table>\n",
       "</div>"
      ],
      "text/plain": [
       "   transaction_id  product_id  customer_id transaction_date  online_order  \\\n",
       "0               1           2         2950       2017-02-25           0.0   \n",
       "1               2           3         3120       2017-05-21           1.0   \n",
       "2               3          37          402       2017-10-16           0.0   \n",
       "3               4          88         3135       2017-08-31           0.0   \n",
       "4               5          78          787       2017-10-01           1.0   \n",
       "\n",
       "  order_status           brand product_line product_class product_size  \\\n",
       "0     Approved           Solex     Standard        medium       medium   \n",
       "1     Approved   Trek Bicycles     Standard        medium        large   \n",
       "2     Approved      OHM Cycles     Standard           low       medium   \n",
       "3     Approved  Norco Bicycles     Standard        medium       medium   \n",
       "4     Approved  Giant Bicycles     Standard        medium        large   \n",
       "\n",
       "   list_price  standard_cost  product_first_sold_date  \n",
       "0       71.49          53.62                  41245.0  \n",
       "1     2091.47         388.92                  41701.0  \n",
       "2     1793.43         248.82                  36361.0  \n",
       "3     1198.46         381.10                  36145.0  \n",
       "4     1765.30         709.48                  42226.0  "
      ]
     },
     "execution_count": 4,
     "metadata": {},
     "output_type": "execute_result"
    }
   ],
   "source": [
    "transaction.head()"
   ]
  },
  {
   "cell_type": "code",
   "execution_count": 5,
   "id": "553c32f5",
   "metadata": {},
   "outputs": [
    {
     "data": {
      "text/plain": [
       "(20000, 13)"
      ]
     },
     "execution_count": 5,
     "metadata": {},
     "output_type": "execute_result"
    }
   ],
   "source": [
    "transaction.shape"
   ]
  },
  {
   "cell_type": "code",
   "execution_count": 6,
   "id": "7e910083",
   "metadata": {},
   "outputs": [
    {
     "name": "stdout",
     "output_type": "stream",
     "text": [
      "<class 'pandas.core.frame.DataFrame'>\n",
      "RangeIndex: 20000 entries, 0 to 19999\n",
      "Data columns (total 13 columns):\n",
      " #   Column                   Non-Null Count  Dtype         \n",
      "---  ------                   --------------  -----         \n",
      " 0   transaction_id           20000 non-null  int64         \n",
      " 1   product_id               20000 non-null  int64         \n",
      " 2   customer_id              20000 non-null  int64         \n",
      " 3   transaction_date         20000 non-null  datetime64[ns]\n",
      " 4   online_order             19640 non-null  float64       \n",
      " 5   order_status             20000 non-null  object        \n",
      " 6   brand                    19803 non-null  object        \n",
      " 7   product_line             19803 non-null  object        \n",
      " 8   product_class            19803 non-null  object        \n",
      " 9   product_size             19803 non-null  object        \n",
      " 10  list_price               20000 non-null  float64       \n",
      " 11  standard_cost            19803 non-null  float64       \n",
      " 12  product_first_sold_date  19803 non-null  float64       \n",
      "dtypes: datetime64[ns](1), float64(4), int64(3), object(5)\n",
      "memory usage: 2.0+ MB\n"
     ]
    }
   ],
   "source": [
    "transaction.info()"
   ]
  },
  {
   "cell_type": "code",
   "execution_count": 7,
   "id": "f6823aba",
   "metadata": {},
   "outputs": [
    {
     "data": {
      "text/html": [
       "<div>\n",
       "<style scoped>\n",
       "    .dataframe tbody tr th:only-of-type {\n",
       "        vertical-align: middle;\n",
       "    }\n",
       "\n",
       "    .dataframe tbody tr th {\n",
       "        vertical-align: top;\n",
       "    }\n",
       "\n",
       "    .dataframe thead th {\n",
       "        text-align: right;\n",
       "    }\n",
       "</style>\n",
       "<table border=\"1\" class=\"dataframe\">\n",
       "  <thead>\n",
       "    <tr style=\"text-align: right;\">\n",
       "      <th></th>\n",
       "      <th>transaction_id</th>\n",
       "      <th>product_id</th>\n",
       "      <th>customer_id</th>\n",
       "      <th>online_order</th>\n",
       "      <th>list_price</th>\n",
       "      <th>standard_cost</th>\n",
       "      <th>product_first_sold_date</th>\n",
       "    </tr>\n",
       "  </thead>\n",
       "  <tbody>\n",
       "    <tr>\n",
       "      <th>count</th>\n",
       "      <td>20000.000000</td>\n",
       "      <td>20000.00000</td>\n",
       "      <td>20000.000000</td>\n",
       "      <td>19640.000000</td>\n",
       "      <td>20000.000000</td>\n",
       "      <td>19803.000000</td>\n",
       "      <td>19803.000000</td>\n",
       "    </tr>\n",
       "    <tr>\n",
       "      <th>mean</th>\n",
       "      <td>10000.500000</td>\n",
       "      <td>45.36465</td>\n",
       "      <td>1738.246050</td>\n",
       "      <td>0.500458</td>\n",
       "      <td>1107.829449</td>\n",
       "      <td>556.046951</td>\n",
       "      <td>38199.776549</td>\n",
       "    </tr>\n",
       "    <tr>\n",
       "      <th>std</th>\n",
       "      <td>5773.647028</td>\n",
       "      <td>30.75359</td>\n",
       "      <td>1011.951046</td>\n",
       "      <td>0.500013</td>\n",
       "      <td>582.825242</td>\n",
       "      <td>405.955660</td>\n",
       "      <td>2875.201110</td>\n",
       "    </tr>\n",
       "    <tr>\n",
       "      <th>min</th>\n",
       "      <td>1.000000</td>\n",
       "      <td>0.00000</td>\n",
       "      <td>1.000000</td>\n",
       "      <td>0.000000</td>\n",
       "      <td>12.010000</td>\n",
       "      <td>7.210000</td>\n",
       "      <td>33259.000000</td>\n",
       "    </tr>\n",
       "    <tr>\n",
       "      <th>25%</th>\n",
       "      <td>5000.750000</td>\n",
       "      <td>18.00000</td>\n",
       "      <td>857.750000</td>\n",
       "      <td>0.000000</td>\n",
       "      <td>575.270000</td>\n",
       "      <td>215.140000</td>\n",
       "      <td>35667.000000</td>\n",
       "    </tr>\n",
       "    <tr>\n",
       "      <th>50%</th>\n",
       "      <td>10000.500000</td>\n",
       "      <td>44.00000</td>\n",
       "      <td>1736.000000</td>\n",
       "      <td>1.000000</td>\n",
       "      <td>1163.890000</td>\n",
       "      <td>507.580000</td>\n",
       "      <td>38216.000000</td>\n",
       "    </tr>\n",
       "    <tr>\n",
       "      <th>75%</th>\n",
       "      <td>15000.250000</td>\n",
       "      <td>72.00000</td>\n",
       "      <td>2613.000000</td>\n",
       "      <td>1.000000</td>\n",
       "      <td>1635.300000</td>\n",
       "      <td>795.100000</td>\n",
       "      <td>40672.000000</td>\n",
       "    </tr>\n",
       "    <tr>\n",
       "      <th>max</th>\n",
       "      <td>20000.000000</td>\n",
       "      <td>100.00000</td>\n",
       "      <td>5034.000000</td>\n",
       "      <td>1.000000</td>\n",
       "      <td>2091.470000</td>\n",
       "      <td>1759.850000</td>\n",
       "      <td>42710.000000</td>\n",
       "    </tr>\n",
       "  </tbody>\n",
       "</table>\n",
       "</div>"
      ],
      "text/plain": [
       "       transaction_id   product_id   customer_id  online_order    list_price  \\\n",
       "count    20000.000000  20000.00000  20000.000000  19640.000000  20000.000000   \n",
       "mean     10000.500000     45.36465   1738.246050      0.500458   1107.829449   \n",
       "std       5773.647028     30.75359   1011.951046      0.500013    582.825242   \n",
       "min          1.000000      0.00000      1.000000      0.000000     12.010000   \n",
       "25%       5000.750000     18.00000    857.750000      0.000000    575.270000   \n",
       "50%      10000.500000     44.00000   1736.000000      1.000000   1163.890000   \n",
       "75%      15000.250000     72.00000   2613.000000      1.000000   1635.300000   \n",
       "max      20000.000000    100.00000   5034.000000      1.000000   2091.470000   \n",
       "\n",
       "       standard_cost  product_first_sold_date  \n",
       "count   19803.000000             19803.000000  \n",
       "mean      556.046951             38199.776549  \n",
       "std       405.955660              2875.201110  \n",
       "min         7.210000             33259.000000  \n",
       "25%       215.140000             35667.000000  \n",
       "50%       507.580000             38216.000000  \n",
       "75%       795.100000             40672.000000  \n",
       "max      1759.850000             42710.000000  "
      ]
     },
     "execution_count": 7,
     "metadata": {},
     "output_type": "execute_result"
    }
   ],
   "source": [
    "transaction.describe()"
   ]
  },
  {
   "cell_type": "code",
   "execution_count": 8,
   "id": "1d75e342",
   "metadata": {},
   "outputs": [
    {
     "data": {
      "text/plain": [
       "Solex             4253\n",
       "Giant Bicycles    3312\n",
       "WeareA2B          3295\n",
       "OHM Cycles        3043\n",
       "Trek Bicycles     2990\n",
       "Norco Bicycles    2910\n",
       "Name: brand, dtype: int64"
      ]
     },
     "execution_count": 8,
     "metadata": {},
     "output_type": "execute_result"
    }
   ],
   "source": [
    "transaction.brand.value_counts()"
   ]
  },
  {
   "cell_type": "markdown",
   "id": "c9d0e8d6",
   "metadata": {},
   "source": [
    "#### checking null values in the transaction data frame"
   ]
  },
  {
   "cell_type": "code",
   "execution_count": 9,
   "id": "eca65d6b",
   "metadata": {},
   "outputs": [
    {
     "data": {
      "text/plain": [
       "transaction_id               0\n",
       "product_id                   0\n",
       "customer_id                  0\n",
       "transaction_date             0\n",
       "online_order               360\n",
       "order_status                 0\n",
       "brand                      197\n",
       "product_line               197\n",
       "product_class              197\n",
       "product_size               197\n",
       "list_price                   0\n",
       "standard_cost              197\n",
       "product_first_sold_date    197\n",
       "dtype: int64"
      ]
     },
     "execution_count": 9,
     "metadata": {},
     "output_type": "execute_result"
    }
   ],
   "source": [
    "transaction.isnull().sum()"
   ]
  },
  {
   "cell_type": "markdown",
   "id": "0f34e489",
   "metadata": {},
   "source": [
    "#### Checking for Brand Column"
   ]
  },
  {
   "cell_type": "code",
   "execution_count": 10,
   "id": "1a6731ff",
   "metadata": {},
   "outputs": [
    {
     "data": {
      "text/plain": [
       "Solex             4253\n",
       "Giant Bicycles    3312\n",
       "WeareA2B          3295\n",
       "OHM Cycles        3043\n",
       "Trek Bicycles     2990\n",
       "Norco Bicycles    2910\n",
       "Name: brand, dtype: int64"
      ]
     },
     "execution_count": 10,
     "metadata": {},
     "output_type": "execute_result"
    }
   ],
   "source": [
    "transaction.brand.value_counts()"
   ]
  },
  {
   "cell_type": "markdown",
   "id": "42d19113",
   "metadata": {},
   "source": [
    "#### Dropping brand null value\n"
   ]
  },
  {
   "cell_type": "code",
   "execution_count": 11,
   "id": "67426583",
   "metadata": {},
   "outputs": [],
   "source": [
    "transaction_1 = transaction[transaction['brand'].isnull()]"
   ]
  },
  {
   "cell_type": "code",
   "execution_count": 12,
   "id": "60fa46c8",
   "metadata": {},
   "outputs": [],
   "source": [
    "transaction.drop(transaction_1.index,inplace = True)"
   ]
  },
  {
   "cell_type": "markdown",
   "id": "7fbf9fa9",
   "metadata": {},
   "source": [
    "#### Finding mode for order_online \n"
   ]
  },
  {
   "cell_type": "code",
   "execution_count": 13,
   "id": "51c65ec8",
   "metadata": {},
   "outputs": [
    {
     "data": {
      "text/plain": [
       "1.0"
      ]
     },
     "execution_count": 13,
     "metadata": {},
     "output_type": "execute_result"
    }
   ],
   "source": [
    "mode_online_data =  transaction.online_order.mode()[0]\n",
    "mode_online_data"
   ]
  },
  {
   "cell_type": "markdown",
   "id": "6e607777",
   "metadata": {},
   "source": [
    "#### Replacing the null value with mode_online_data"
   ]
  },
  {
   "cell_type": "code",
   "execution_count": 14,
   "id": "b12c6755",
   "metadata": {},
   "outputs": [],
   "source": [
    "transaction['online_order'] = transaction['online_order'].fillna(mode_online_data)"
   ]
  },
  {
   "cell_type": "markdown",
   "id": "ce47af26",
   "metadata": {},
   "source": [
    "#### Checking null value \n"
   ]
  },
  {
   "cell_type": "code",
   "execution_count": 15,
   "id": "a7c07378",
   "metadata": {},
   "outputs": [
    {
     "data": {
      "text/plain": [
       "transaction_id             0\n",
       "product_id                 0\n",
       "customer_id                0\n",
       "transaction_date           0\n",
       "online_order               0\n",
       "order_status               0\n",
       "brand                      0\n",
       "product_line               0\n",
       "product_class              0\n",
       "product_size               0\n",
       "list_price                 0\n",
       "standard_cost              0\n",
       "product_first_sold_date    0\n",
       "dtype: int64"
      ]
     },
     "execution_count": 15,
     "metadata": {},
     "output_type": "execute_result"
    }
   ],
   "source": [
    "transaction.isnull().sum()"
   ]
  },
  {
   "cell_type": "markdown",
   "id": "7668c980",
   "metadata": {},
   "source": [
    "#### ------------------------------------------------------------------------------------------------------------------------------------------------------------------------------------------------------------------"
   ]
  },
  {
   "cell_type": "markdown",
   "id": "ec1d6046",
   "metadata": {},
   "source": [
    "### lets check CustomerDemographic data frame"
   ]
  },
  {
   "cell_type": "code",
   "execution_count": 16,
   "id": "c4eba752",
   "metadata": {},
   "outputs": [
    {
     "data": {
      "text/html": [
       "<div>\n",
       "<style scoped>\n",
       "    .dataframe tbody tr th:only-of-type {\n",
       "        vertical-align: middle;\n",
       "    }\n",
       "\n",
       "    .dataframe tbody tr th {\n",
       "        vertical-align: top;\n",
       "    }\n",
       "\n",
       "    .dataframe thead th {\n",
       "        text-align: right;\n",
       "    }\n",
       "</style>\n",
       "<table border=\"1\" class=\"dataframe\">\n",
       "  <thead>\n",
       "    <tr style=\"text-align: right;\">\n",
       "      <th></th>\n",
       "      <th>customer_id</th>\n",
       "      <th>first_name</th>\n",
       "      <th>last_name</th>\n",
       "      <th>gender</th>\n",
       "      <th>past_3_years_bike_related_purchases</th>\n",
       "      <th>DOB</th>\n",
       "      <th>job_title</th>\n",
       "      <th>job_industry_category</th>\n",
       "      <th>wealth_segment</th>\n",
       "      <th>deceased_indicator</th>\n",
       "      <th>default</th>\n",
       "      <th>owns_car</th>\n",
       "      <th>tenure</th>\n",
       "    </tr>\n",
       "  </thead>\n",
       "  <tbody>\n",
       "    <tr>\n",
       "      <th>0</th>\n",
       "      <td>1</td>\n",
       "      <td>Laraine</td>\n",
       "      <td>Medendorp</td>\n",
       "      <td>F</td>\n",
       "      <td>93</td>\n",
       "      <td>1953-10-12</td>\n",
       "      <td>Executive Secretary</td>\n",
       "      <td>Health</td>\n",
       "      <td>Mass Customer</td>\n",
       "      <td>N</td>\n",
       "      <td>\"'</td>\n",
       "      <td>Yes</td>\n",
       "      <td>11.0</td>\n",
       "    </tr>\n",
       "    <tr>\n",
       "      <th>1</th>\n",
       "      <td>2</td>\n",
       "      <td>Eli</td>\n",
       "      <td>Bockman</td>\n",
       "      <td>Male</td>\n",
       "      <td>81</td>\n",
       "      <td>1980-12-16</td>\n",
       "      <td>Administrative Officer</td>\n",
       "      <td>Financial Services</td>\n",
       "      <td>Mass Customer</td>\n",
       "      <td>N</td>\n",
       "      <td>&lt;script&gt;alert('hi')&lt;/script&gt;</td>\n",
       "      <td>Yes</td>\n",
       "      <td>16.0</td>\n",
       "    </tr>\n",
       "    <tr>\n",
       "      <th>2</th>\n",
       "      <td>3</td>\n",
       "      <td>Arlin</td>\n",
       "      <td>Dearle</td>\n",
       "      <td>Male</td>\n",
       "      <td>61</td>\n",
       "      <td>1954-01-20</td>\n",
       "      <td>Recruiting Manager</td>\n",
       "      <td>Property</td>\n",
       "      <td>Mass Customer</td>\n",
       "      <td>N</td>\n",
       "      <td>2018-02-01 00:00:00</td>\n",
       "      <td>Yes</td>\n",
       "      <td>15.0</td>\n",
       "    </tr>\n",
       "    <tr>\n",
       "      <th>3</th>\n",
       "      <td>4</td>\n",
       "      <td>Talbot</td>\n",
       "      <td>NaN</td>\n",
       "      <td>Male</td>\n",
       "      <td>33</td>\n",
       "      <td>1961-10-03</td>\n",
       "      <td>NaN</td>\n",
       "      <td>IT</td>\n",
       "      <td>Mass Customer</td>\n",
       "      <td>N</td>\n",
       "      <td>() { _; } &gt;_[$($())] { touch /tmp/blns.shellsh...</td>\n",
       "      <td>No</td>\n",
       "      <td>7.0</td>\n",
       "    </tr>\n",
       "    <tr>\n",
       "      <th>4</th>\n",
       "      <td>5</td>\n",
       "      <td>Sheila-kathryn</td>\n",
       "      <td>Calton</td>\n",
       "      <td>Female</td>\n",
       "      <td>56</td>\n",
       "      <td>1977-05-13</td>\n",
       "      <td>Senior Editor</td>\n",
       "      <td>NaN</td>\n",
       "      <td>Affluent Customer</td>\n",
       "      <td>N</td>\n",
       "      <td>NIL</td>\n",
       "      <td>Yes</td>\n",
       "      <td>8.0</td>\n",
       "    </tr>\n",
       "  </tbody>\n",
       "</table>\n",
       "</div>"
      ],
      "text/plain": [
       "   customer_id      first_name  last_name  gender  \\\n",
       "0            1         Laraine  Medendorp       F   \n",
       "1            2             Eli    Bockman    Male   \n",
       "2            3           Arlin     Dearle    Male   \n",
       "3            4          Talbot        NaN    Male   \n",
       "4            5  Sheila-kathryn     Calton  Female   \n",
       "\n",
       "   past_3_years_bike_related_purchases        DOB               job_title  \\\n",
       "0                                   93 1953-10-12     Executive Secretary   \n",
       "1                                   81 1980-12-16  Administrative Officer   \n",
       "2                                   61 1954-01-20      Recruiting Manager   \n",
       "3                                   33 1961-10-03                     NaN   \n",
       "4                                   56 1977-05-13           Senior Editor   \n",
       "\n",
       "  job_industry_category     wealth_segment deceased_indicator  \\\n",
       "0                Health      Mass Customer                  N   \n",
       "1    Financial Services      Mass Customer                  N   \n",
       "2              Property      Mass Customer                  N   \n",
       "3                    IT      Mass Customer                  N   \n",
       "4                   NaN  Affluent Customer                  N   \n",
       "\n",
       "                                             default owns_car  tenure  \n",
       "0                                                 \"'      Yes    11.0  \n",
       "1                       <script>alert('hi')</script>      Yes    16.0  \n",
       "2                                2018-02-01 00:00:00      Yes    15.0  \n",
       "3  () { _; } >_[$($())] { touch /tmp/blns.shellsh...       No     7.0  \n",
       "4                                                NIL      Yes     8.0  "
      ]
     },
     "execution_count": 16,
     "metadata": {},
     "output_type": "execute_result"
    }
   ],
   "source": [
    "CustomerDemographic.head()"
   ]
  },
  {
   "cell_type": "code",
   "execution_count": 17,
   "id": "376508c5",
   "metadata": {},
   "outputs": [
    {
     "data": {
      "text/plain": [
       "Index(['customer_id', 'first_name', 'last_name', 'gender',\n",
       "       'past_3_years_bike_related_purchases', 'DOB', 'job_title',\n",
       "       'job_industry_category', 'wealth_segment', 'deceased_indicator',\n",
       "       'default', 'owns_car', 'tenure'],\n",
       "      dtype='object')"
      ]
     },
     "execution_count": 17,
     "metadata": {},
     "output_type": "execute_result"
    }
   ],
   "source": [
    "CustomerDemographic.columns"
   ]
  },
  {
   "cell_type": "code",
   "execution_count": 18,
   "id": "94ecafb6",
   "metadata": {},
   "outputs": [
    {
     "name": "stdout",
     "output_type": "stream",
     "text": [
      "<class 'pandas.core.frame.DataFrame'>\n",
      "RangeIndex: 4000 entries, 0 to 3999\n",
      "Data columns (total 13 columns):\n",
      " #   Column                               Non-Null Count  Dtype         \n",
      "---  ------                               --------------  -----         \n",
      " 0   customer_id                          4000 non-null   int64         \n",
      " 1   first_name                           4000 non-null   object        \n",
      " 2   last_name                            3875 non-null   object        \n",
      " 3   gender                               4000 non-null   object        \n",
      " 4   past_3_years_bike_related_purchases  4000 non-null   int64         \n",
      " 5   DOB                                  3913 non-null   datetime64[ns]\n",
      " 6   job_title                            3494 non-null   object        \n",
      " 7   job_industry_category                3344 non-null   object        \n",
      " 8   wealth_segment                       4000 non-null   object        \n",
      " 9   deceased_indicator                   4000 non-null   object        \n",
      " 10  default                              3698 non-null   object        \n",
      " 11  owns_car                             4000 non-null   object        \n",
      " 12  tenure                               3913 non-null   float64       \n",
      "dtypes: datetime64[ns](1), float64(1), int64(2), object(9)\n",
      "memory usage: 406.4+ KB\n"
     ]
    }
   ],
   "source": [
    "CustomerDemographic.info()"
   ]
  },
  {
   "cell_type": "code",
   "execution_count": 19,
   "id": "9f175d1b",
   "metadata": {},
   "outputs": [
    {
     "data": {
      "text/plain": [
       "(4000, 13)"
      ]
     },
     "execution_count": 19,
     "metadata": {},
     "output_type": "execute_result"
    }
   ],
   "source": [
    "CustomerDemographic.shape"
   ]
  },
  {
   "cell_type": "code",
   "execution_count": 20,
   "id": "0bc3ee4e",
   "metadata": {},
   "outputs": [
    {
     "data": {
      "text/html": [
       "<div>\n",
       "<style scoped>\n",
       "    .dataframe tbody tr th:only-of-type {\n",
       "        vertical-align: middle;\n",
       "    }\n",
       "\n",
       "    .dataframe tbody tr th {\n",
       "        vertical-align: top;\n",
       "    }\n",
       "\n",
       "    .dataframe thead th {\n",
       "        text-align: right;\n",
       "    }\n",
       "</style>\n",
       "<table border=\"1\" class=\"dataframe\">\n",
       "  <thead>\n",
       "    <tr style=\"text-align: right;\">\n",
       "      <th></th>\n",
       "      <th>customer_id</th>\n",
       "      <th>past_3_years_bike_related_purchases</th>\n",
       "      <th>tenure</th>\n",
       "    </tr>\n",
       "  </thead>\n",
       "  <tbody>\n",
       "    <tr>\n",
       "      <th>count</th>\n",
       "      <td>4000.000000</td>\n",
       "      <td>4000.000000</td>\n",
       "      <td>3913.000000</td>\n",
       "    </tr>\n",
       "    <tr>\n",
       "      <th>mean</th>\n",
       "      <td>2000.500000</td>\n",
       "      <td>48.890000</td>\n",
       "      <td>10.657041</td>\n",
       "    </tr>\n",
       "    <tr>\n",
       "      <th>std</th>\n",
       "      <td>1154.844867</td>\n",
       "      <td>28.715005</td>\n",
       "      <td>5.660146</td>\n",
       "    </tr>\n",
       "    <tr>\n",
       "      <th>min</th>\n",
       "      <td>1.000000</td>\n",
       "      <td>0.000000</td>\n",
       "      <td>1.000000</td>\n",
       "    </tr>\n",
       "    <tr>\n",
       "      <th>25%</th>\n",
       "      <td>1000.750000</td>\n",
       "      <td>24.000000</td>\n",
       "      <td>6.000000</td>\n",
       "    </tr>\n",
       "    <tr>\n",
       "      <th>50%</th>\n",
       "      <td>2000.500000</td>\n",
       "      <td>48.000000</td>\n",
       "      <td>11.000000</td>\n",
       "    </tr>\n",
       "    <tr>\n",
       "      <th>75%</th>\n",
       "      <td>3000.250000</td>\n",
       "      <td>73.000000</td>\n",
       "      <td>15.000000</td>\n",
       "    </tr>\n",
       "    <tr>\n",
       "      <th>max</th>\n",
       "      <td>4000.000000</td>\n",
       "      <td>99.000000</td>\n",
       "      <td>22.000000</td>\n",
       "    </tr>\n",
       "  </tbody>\n",
       "</table>\n",
       "</div>"
      ],
      "text/plain": [
       "       customer_id  past_3_years_bike_related_purchases       tenure\n",
       "count  4000.000000                          4000.000000  3913.000000\n",
       "mean   2000.500000                            48.890000    10.657041\n",
       "std    1154.844867                            28.715005     5.660146\n",
       "min       1.000000                             0.000000     1.000000\n",
       "25%    1000.750000                            24.000000     6.000000\n",
       "50%    2000.500000                            48.000000    11.000000\n",
       "75%    3000.250000                            73.000000    15.000000\n",
       "max    4000.000000                            99.000000    22.000000"
      ]
     },
     "execution_count": 20,
     "metadata": {},
     "output_type": "execute_result"
    }
   ],
   "source": [
    "CustomerDemographic.describe()"
   ]
  },
  {
   "cell_type": "markdown",
   "id": "c501fdae",
   "metadata": {},
   "source": [
    "#### Lets Check unique value"
   ]
  },
  {
   "cell_type": "code",
   "execution_count": 21,
   "id": "b261c674",
   "metadata": {},
   "outputs": [
    {
     "data": {
      "text/plain": [
       "array(['F', 'Male', 'Female', 'U', 'Femal', 'M'], dtype=object)"
      ]
     },
     "execution_count": 21,
     "metadata": {},
     "output_type": "execute_result"
    }
   ],
   "source": [
    "CustomerDemographic.gender.unique()"
   ]
  },
  {
   "cell_type": "markdown",
   "id": "16d54cbd",
   "metadata": {},
   "source": [
    "#### Lets correct the column"
   ]
  },
  {
   "cell_type": "code",
   "execution_count": 22,
   "id": "59f5029f",
   "metadata": {},
   "outputs": [],
   "source": [
    "CustomerDemographic['gender'] = CustomerDemographic['gender'].map(lambda x : 'Female' if x == 'F' or x == \"Femal\" else ('Male' if x == 'M' else ( \"Unspecified\" if x == 'U' else x)))"
   ]
  },
  {
   "cell_type": "markdown",
   "id": "b07555f7",
   "metadata": {},
   "source": [
    "#### checking the gender column\n"
   ]
  },
  {
   "cell_type": "code",
   "execution_count": 23,
   "id": "53403c50",
   "metadata": {},
   "outputs": [
    {
     "data": {
      "text/plain": [
       "Female         2039\n",
       "Male           1873\n",
       "Unspecified      88\n",
       "Name: gender, dtype: int64"
      ]
     },
     "execution_count": 23,
     "metadata": {},
     "output_type": "execute_result"
    }
   ],
   "source": [
    "CustomerDemographic[\"gender\"].value_counts()"
   ]
  },
  {
   "cell_type": "markdown",
   "id": "52295e73",
   "metadata": {},
   "source": [
    "#### Lets Check the null value"
   ]
  },
  {
   "cell_type": "code",
   "execution_count": 24,
   "id": "61ff66c8",
   "metadata": {},
   "outputs": [
    {
     "data": {
      "text/plain": [
       "customer_id                              0\n",
       "first_name                               0\n",
       "last_name                              125\n",
       "gender                                   0\n",
       "past_3_years_bike_related_purchases      0\n",
       "DOB                                     87\n",
       "job_title                              506\n",
       "job_industry_category                  656\n",
       "wealth_segment                           0\n",
       "deceased_indicator                       0\n",
       "default                                302\n",
       "owns_car                                 0\n",
       "tenure                                  87\n",
       "dtype: int64"
      ]
     },
     "execution_count": 24,
     "metadata": {},
     "output_type": "execute_result"
    }
   ],
   "source": [
    "CustomerDemographic.isnull().sum()"
   ]
  },
  {
   "cell_type": "markdown",
   "id": "0281ccf9",
   "metadata": {},
   "source": [
    "#### Lets remove Default from data set "
   ]
  },
  {
   "cell_type": "code",
   "execution_count": 25,
   "id": "642e634b",
   "metadata": {},
   "outputs": [],
   "source": [
    "CustomerDemographic.drop('default',axis = 1,inplace = True)"
   ]
  },
  {
   "cell_type": "markdown",
   "id": "123dccaa",
   "metadata": {},
   "source": [
    "#### Examining the data set"
   ]
  },
  {
   "cell_type": "code",
   "execution_count": 26,
   "id": "30beae0e",
   "metadata": {},
   "outputs": [
    {
     "data": {
      "text/plain": [
       "customer_id                              0\n",
       "first_name                               0\n",
       "last_name                              125\n",
       "gender                                   0\n",
       "past_3_years_bike_related_purchases      0\n",
       "DOB                                     87\n",
       "job_title                              506\n",
       "job_industry_category                  656\n",
       "wealth_segment                           0\n",
       "deceased_indicator                       0\n",
       "owns_car                                 0\n",
       "tenure                                  87\n",
       "dtype: int64"
      ]
     },
     "execution_count": 26,
     "metadata": {},
     "output_type": "execute_result"
    }
   ],
   "source": [
    "CustomerDemographic.isnull().sum()"
   ]
  },
  {
   "cell_type": "markdown",
   "id": "0c6893bd",
   "metadata": {},
   "source": [
    "#### Examining  the deceased_indicator column"
   ]
  },
  {
   "cell_type": "code",
   "execution_count": 27,
   "id": "31464684",
   "metadata": {},
   "outputs": [
    {
     "data": {
      "text/plain": [
       "N    3998\n",
       "Y       2\n",
       "Name: deceased_indicator, dtype: int64"
      ]
     },
     "execution_count": 27,
     "metadata": {},
     "output_type": "execute_result"
    }
   ],
   "source": [
    "CustomerDemographic.deceased_indicator.value_counts()"
   ]
  },
  {
   "cell_type": "code",
   "execution_count": 28,
   "id": "a5be4e5d",
   "metadata": {},
   "outputs": [],
   "source": [
    "# Create a data frame for deceased customer"
   ]
  },
  {
   "cell_type": "code",
   "execution_count": 29,
   "id": "1ea24f0b",
   "metadata": {},
   "outputs": [],
   "source": [
    "Deceased = CustomerDemographic[CustomerDemographic['deceased_indicator']== 'Y']"
   ]
  },
  {
   "cell_type": "code",
   "execution_count": 30,
   "id": "75ab7523",
   "metadata": {},
   "outputs": [
    {
     "data": {
      "text/html": [
       "<div>\n",
       "<style scoped>\n",
       "    .dataframe tbody tr th:only-of-type {\n",
       "        vertical-align: middle;\n",
       "    }\n",
       "\n",
       "    .dataframe tbody tr th {\n",
       "        vertical-align: top;\n",
       "    }\n",
       "\n",
       "    .dataframe thead th {\n",
       "        text-align: right;\n",
       "    }\n",
       "</style>\n",
       "<table border=\"1\" class=\"dataframe\">\n",
       "  <thead>\n",
       "    <tr style=\"text-align: right;\">\n",
       "      <th></th>\n",
       "      <th>customer_id</th>\n",
       "      <th>first_name</th>\n",
       "      <th>last_name</th>\n",
       "      <th>gender</th>\n",
       "      <th>past_3_years_bike_related_purchases</th>\n",
       "      <th>DOB</th>\n",
       "      <th>job_title</th>\n",
       "      <th>job_industry_category</th>\n",
       "      <th>wealth_segment</th>\n",
       "      <th>deceased_indicator</th>\n",
       "      <th>owns_car</th>\n",
       "      <th>tenure</th>\n",
       "    </tr>\n",
       "  </thead>\n",
       "  <tbody>\n",
       "    <tr>\n",
       "      <th>752</th>\n",
       "      <td>753</td>\n",
       "      <td>Josy</td>\n",
       "      <td>St. Quentin</td>\n",
       "      <td>Female</td>\n",
       "      <td>82</td>\n",
       "      <td>1970-03-07</td>\n",
       "      <td>Food Chemist</td>\n",
       "      <td>Health</td>\n",
       "      <td>Affluent Customer</td>\n",
       "      <td>Y</td>\n",
       "      <td>Yes</td>\n",
       "      <td>6.0</td>\n",
       "    </tr>\n",
       "    <tr>\n",
       "      <th>3789</th>\n",
       "      <td>3790</td>\n",
       "      <td>Kurtis</td>\n",
       "      <td>Morson</td>\n",
       "      <td>Male</td>\n",
       "      <td>91</td>\n",
       "      <td>1959-05-31</td>\n",
       "      <td>Senior Editor</td>\n",
       "      <td>Retail</td>\n",
       "      <td>Mass Customer</td>\n",
       "      <td>Y</td>\n",
       "      <td>Yes</td>\n",
       "      <td>9.0</td>\n",
       "    </tr>\n",
       "  </tbody>\n",
       "</table>\n",
       "</div>"
      ],
      "text/plain": [
       "      customer_id first_name    last_name  gender  \\\n",
       "752           753       Josy  St. Quentin  Female   \n",
       "3789         3790     Kurtis       Morson    Male   \n",
       "\n",
       "      past_3_years_bike_related_purchases        DOB      job_title  \\\n",
       "752                                    82 1970-03-07   Food Chemist   \n",
       "3789                                   91 1959-05-31  Senior Editor   \n",
       "\n",
       "     job_industry_category     wealth_segment deceased_indicator owns_car  \\\n",
       "752                 Health  Affluent Customer                  Y      Yes   \n",
       "3789                Retail      Mass Customer                  Y      Yes   \n",
       "\n",
       "      tenure  \n",
       "752      6.0  \n",
       "3789     9.0  "
      ]
     },
     "execution_count": 30,
     "metadata": {},
     "output_type": "execute_result"
    }
   ],
   "source": [
    "Deceased.head()"
   ]
  },
  {
   "cell_type": "markdown",
   "id": "8ab390da",
   "metadata": {},
   "source": [
    "##### droping the Deceased index\n"
   ]
  },
  {
   "cell_type": "code",
   "execution_count": 31,
   "id": "708f419c",
   "metadata": {},
   "outputs": [],
   "source": [
    "CustomerDemographic.drop(Deceased.index,axis = 0,inplace = True)"
   ]
  },
  {
   "cell_type": "markdown",
   "id": "da5a97eb",
   "metadata": {},
   "source": [
    "#### checking the value count of deceased indicator "
   ]
  },
  {
   "cell_type": "code",
   "execution_count": 32,
   "id": "eea6ce83",
   "metadata": {},
   "outputs": [
    {
     "data": {
      "text/plain": [
       "N    3998\n",
       "Name: deceased_indicator, dtype: int64"
      ]
     },
     "execution_count": 32,
     "metadata": {},
     "output_type": "execute_result"
    }
   ],
   "source": [
    "CustomerDemographic['deceased_indicator'].value_counts()"
   ]
  },
  {
   "cell_type": "markdown",
   "id": "7cc88674",
   "metadata": {},
   "source": [
    "#### Examining the job_industry_category column\n"
   ]
  },
  {
   "cell_type": "code",
   "execution_count": 33,
   "id": "cadb57b8",
   "metadata": {},
   "outputs": [
    {
     "data": {
      "text/plain": [
       "Manufacturing         799\n",
       "Financial Services    774\n",
       "Health                601\n",
       "Retail                357\n",
       "Property              267\n",
       "IT                    223\n",
       "Entertainment         136\n",
       "Argiculture           113\n",
       "Telecommunications     72\n",
       "Name: job_industry_category, dtype: int64"
      ]
     },
     "execution_count": 33,
     "metadata": {},
     "output_type": "execute_result"
    }
   ],
   "source": [
    "CustomerDemographic.job_industry_category.value_counts()"
   ]
  },
  {
   "cell_type": "markdown",
   "id": "c9af4c4f",
   "metadata": {},
   "source": [
    "#### Correct the Agriculture spelling Mistake"
   ]
  },
  {
   "cell_type": "code",
   "execution_count": 34,
   "id": "132f09dc",
   "metadata": {},
   "outputs": [],
   "source": [
    "CustomerDemographic['job_industry_category'] = CustomerDemographic['job_industry_category'].replace('Argiculture','Agriculture')"
   ]
  },
  {
   "cell_type": "markdown",
   "id": "c5e00205",
   "metadata": {},
   "source": [
    "#### Lets check the job_industry_category Column"
   ]
  },
  {
   "cell_type": "code",
   "execution_count": 35,
   "id": "43c65a34",
   "metadata": {},
   "outputs": [
    {
     "data": {
      "text/plain": [
       "Manufacturing         799\n",
       "Financial Services    774\n",
       "Health                601\n",
       "Retail                357\n",
       "Property              267\n",
       "IT                    223\n",
       "Entertainment         136\n",
       "Agriculture           113\n",
       "Telecommunications     72\n",
       "Name: job_industry_category, dtype: int64"
      ]
     },
     "execution_count": 35,
     "metadata": {},
     "output_type": "execute_result"
    }
   ],
   "source": [
    "CustomerDemographic.job_industry_category.value_counts()"
   ]
  },
  {
   "cell_type": "code",
   "execution_count": 36,
   "id": "4eeb3aa9",
   "metadata": {},
   "outputs": [
    {
     "data": {
      "text/plain": [
       "Manufacturing         23.907840\n",
       "Financial Services    23.159785\n",
       "Health                17.983244\n",
       "Retail                10.682226\n",
       "Property               7.989228\n",
       "IT                     6.672651\n",
       "Entertainment          4.069420\n",
       "Agriculture            3.381209\n",
       "Telecommunications     2.154399\n",
       "Name: job_industry_category, dtype: float64"
      ]
     },
     "execution_count": 36,
     "metadata": {},
     "output_type": "execute_result"
    }
   ],
   "source": [
    "CustomerDemographic.job_industry_category.value_counts(normalize = True)*100"
   ]
  },
  {
   "cell_type": "markdown",
   "id": "1c86026e",
   "metadata": {},
   "source": [
    "#### Here we need to foucus on top for data values\n",
    "1. Manufacturing         23.907840\n",
    "2. Financial Services    23.159785\n",
    "3. Health                17.983244\n",
    "4. Retail                10.682226\n",
    "\n",
    "#### So we can fill  the data with these values  "
   ]
  },
  {
   "cell_type": "markdown",
   "id": "3a2132d3",
   "metadata": {},
   "source": [
    "#### Lets check the percentage of null value in job_industry_category"
   ]
  },
  {
   "cell_type": "code",
   "execution_count": 37,
   "id": "0d90f06e",
   "metadata": {},
   "outputs": [
    {
     "data": {
      "text/plain": [
       "16.408204102051023"
      ]
     },
     "execution_count": 37,
     "metadata": {},
     "output_type": "execute_result"
    }
   ],
   "source": [
    "CustomerDemographic.job_industry_category.isnull().mean()*100"
   ]
  },
  {
   "cell_type": "markdown",
   "id": "657ade5b",
   "metadata": {},
   "source": [
    "#### As per value count and percentage of the missing value we can use following method :\n",
    "1. As the percentage for  Manufacturing  is 23.907840 and is Financial Services  23.159785 \n",
    "2. So we can fill 246 rows with Manufacturing and other 246 with Financial Services   \n",
    "3. Remaining 164 we can split the half with Health and Retail"
   ]
  },
  {
   "cell_type": "markdown",
   "id": "b105401e",
   "metadata": {},
   "source": [
    "#### Lets create a new data frame for null rows of job_industry_category "
   ]
  },
  {
   "cell_type": "code",
   "execution_count": 38,
   "id": "80b0280b",
   "metadata": {},
   "outputs": [],
   "source": [
    "Customer_null =  CustomerDemographic[CustomerDemographic.job_industry_category.isnull()]"
   ]
  },
  {
   "cell_type": "markdown",
   "id": "001322a5",
   "metadata": {},
   "source": [
    "#### Lets check the data frame Customer_null"
   ]
  },
  {
   "cell_type": "code",
   "execution_count": 39,
   "id": "92340e08",
   "metadata": {},
   "outputs": [
    {
     "data": {
      "text/plain": [
       "customer_id                              0.000000\n",
       "first_name                               0.000000\n",
       "last_name                                3.810976\n",
       "gender                                   0.000000\n",
       "past_3_years_bike_related_purchases      0.000000\n",
       "DOB                                      0.000000\n",
       "job_title                               16.006098\n",
       "job_industry_category                  100.000000\n",
       "wealth_segment                           0.000000\n",
       "deceased_indicator                       0.000000\n",
       "owns_car                                 0.000000\n",
       "tenure                                   0.000000\n",
       "dtype: float64"
      ]
     },
     "execution_count": 39,
     "metadata": {},
     "output_type": "execute_result"
    }
   ],
   "source": [
    "Customer_null.isnull().mean()*100"
   ]
  },
  {
   "cell_type": "markdown",
   "id": "5fbe20cc",
   "metadata": {},
   "source": [
    "#### Lets  fill the data with our approach"
   ]
  },
  {
   "cell_type": "markdown",
   "id": "7cffc49c",
   "metadata": {},
   "source": [
    "##### Create a list of values to fill\n",
    "\n"
   ]
  },
  {
   "cell_type": "code",
   "execution_count": 40,
   "id": "a7ef0ad2",
   "metadata": {},
   "outputs": [],
   "source": [
    "fill_values = ['Manufacturing'] * 246 + ['Financial Services'] * 246 + ['Health'] * 82 + ['Retail'] * 82"
   ]
  },
  {
   "cell_type": "markdown",
   "id": "6d08da4a",
   "metadata": {},
   "source": [
    "##### Fill the null values\n",
    "\n",
    "\n"
   ]
  },
  {
   "cell_type": "code",
   "execution_count": 41,
   "id": "c4ea4a0c",
   "metadata": {},
   "outputs": [],
   "source": [
    "Customer_null['job_industry_category'].fillna(value=pd.Series(fill_values, index=Customer_null.index), inplace=True)"
   ]
  },
  {
   "cell_type": "markdown",
   "id": "078e6a3f",
   "metadata": {},
   "source": [
    "##### Verify the count of null values is zero\n"
   ]
  },
  {
   "cell_type": "code",
   "execution_count": 42,
   "id": "b8dda0e3",
   "metadata": {},
   "outputs": [
    {
     "data": {
      "text/plain": [
       "customer_id                              0\n",
       "first_name                               0\n",
       "last_name                               25\n",
       "gender                                   0\n",
       "past_3_years_bike_related_purchases      0\n",
       "DOB                                      0\n",
       "job_title                              105\n",
       "job_industry_category                    0\n",
       "wealth_segment                           0\n",
       "deceased_indicator                       0\n",
       "owns_car                                 0\n",
       "tenure                                   0\n",
       "dtype: int64"
      ]
     },
     "execution_count": 42,
     "metadata": {},
     "output_type": "execute_result"
    }
   ],
   "source": [
    "Customer_null.isnull().sum()"
   ]
  },
  {
   "cell_type": "markdown",
   "id": "20f448f4",
   "metadata": {},
   "source": [
    "#### Lets Drop Customer_null from main data frame\n"
   ]
  },
  {
   "cell_type": "code",
   "execution_count": 43,
   "id": "a3280846",
   "metadata": {},
   "outputs": [],
   "source": [
    "CustomerDemographic.drop(Customer_null.index,inplace = True)"
   ]
  },
  {
   "cell_type": "markdown",
   "id": "2eeadf74",
   "metadata": {},
   "source": [
    "#### Lets Check the shape"
   ]
  },
  {
   "cell_type": "code",
   "execution_count": 44,
   "id": "c17fadf4",
   "metadata": {},
   "outputs": [
    {
     "data": {
      "text/plain": [
       "(3342, 12)"
      ]
     },
     "execution_count": 44,
     "metadata": {},
     "output_type": "execute_result"
    }
   ],
   "source": [
    "CustomerDemographic.shape"
   ]
  },
  {
   "cell_type": "markdown",
   "id": "c2ba8119",
   "metadata": {},
   "source": [
    "#### Lets Append the Customer_null in the data frame "
   ]
  },
  {
   "cell_type": "code",
   "execution_count": 45,
   "id": "f921623f",
   "metadata": {},
   "outputs": [],
   "source": [
    "CustomerDemographic = CustomerDemographic.append(Customer_null)"
   ]
  },
  {
   "cell_type": "markdown",
   "id": "a1cb87e3",
   "metadata": {},
   "source": [
    "#### Lets Recheck the data frame"
   ]
  },
  {
   "cell_type": "code",
   "execution_count": 46,
   "id": "c6f508e3",
   "metadata": {},
   "outputs": [
    {
     "data": {
      "text/plain": [
       "(3998, 12)"
      ]
     },
     "execution_count": 46,
     "metadata": {},
     "output_type": "execute_result"
    }
   ],
   "source": [
    "CustomerDemographic.shape"
   ]
  },
  {
   "cell_type": "markdown",
   "id": "d617e6f8",
   "metadata": {},
   "source": [
    "#### Lets Fill Tenure Column "
   ]
  },
  {
   "cell_type": "markdown",
   "id": "944a14d9",
   "metadata": {},
   "source": [
    "##### filling the tenure data set with  median\n"
   ]
  },
  {
   "cell_type": "code",
   "execution_count": 47,
   "id": "ebbd553e",
   "metadata": {},
   "outputs": [],
   "source": [
    "tenure_median = CustomerDemographic['tenure'].median()"
   ]
  },
  {
   "cell_type": "code",
   "execution_count": 48,
   "id": "38c2a37c",
   "metadata": {},
   "outputs": [],
   "source": [
    "CustomerDemographic['tenure'].fillna(tenure_median,inplace = True)"
   ]
  },
  {
   "cell_type": "markdown",
   "id": "736f2d69",
   "metadata": {},
   "source": [
    "#### Examine the data set"
   ]
  },
  {
   "cell_type": "code",
   "execution_count": 49,
   "id": "49116679",
   "metadata": {},
   "outputs": [
    {
     "data": {
      "text/plain": [
       "customer_id                              0\n",
       "first_name                               0\n",
       "last_name                              125\n",
       "gender                                   0\n",
       "past_3_years_bike_related_purchases      0\n",
       "DOB                                     87\n",
       "job_title                              506\n",
       "job_industry_category                    0\n",
       "wealth_segment                           0\n",
       "deceased_indicator                       0\n",
       "owns_car                                 0\n",
       "tenure                                   0\n",
       "dtype: int64"
      ]
     },
     "execution_count": 49,
     "metadata": {},
     "output_type": "execute_result"
    }
   ],
   "source": [
    "CustomerDemographic.isnull().sum()"
   ]
  },
  {
   "cell_type": "markdown",
   "id": "e93b1db2",
   "metadata": {},
   "source": [
    "####  Dropping  the null job_title rows"
   ]
  },
  {
   "cell_type": "code",
   "execution_count": 50,
   "id": "a0d4b78f",
   "metadata": {},
   "outputs": [
    {
     "data": {
      "text/plain": [
       "0          Executive Secretary\n",
       "1       Administrative Officer\n",
       "2           Recruiting Manager\n",
       "3                          NaN\n",
       "5                          NaN\n",
       "                 ...          \n",
       "3965               Geologist I\n",
       "3973          Technical Writer\n",
       "3975          Internal Auditor\n",
       "3982          Graphic Designer\n",
       "3999      Software Engineer IV\n",
       "Name: job_title, Length: 3998, dtype: object"
      ]
     },
     "execution_count": 50,
     "metadata": {},
     "output_type": "execute_result"
    }
   ],
   "source": [
    "CustomerDemographic['job_title']"
   ]
  },
  {
   "cell_type": "markdown",
   "id": "b3d28722",
   "metadata": {},
   "source": [
    "#### -------------------------------------------------------------------------------------------------------------------------------------------------------------------------------------------------------"
   ]
  },
  {
   "cell_type": "markdown",
   "id": "e767e36d",
   "metadata": {},
   "source": [
    "#### Lets check the CustomerAddress data frame"
   ]
  },
  {
   "cell_type": "code",
   "execution_count": 51,
   "id": "e87a8696",
   "metadata": {},
   "outputs": [
    {
     "data": {
      "text/html": [
       "<div>\n",
       "<style scoped>\n",
       "    .dataframe tbody tr th:only-of-type {\n",
       "        vertical-align: middle;\n",
       "    }\n",
       "\n",
       "    .dataframe tbody tr th {\n",
       "        vertical-align: top;\n",
       "    }\n",
       "\n",
       "    .dataframe thead th {\n",
       "        text-align: right;\n",
       "    }\n",
       "</style>\n",
       "<table border=\"1\" class=\"dataframe\">\n",
       "  <thead>\n",
       "    <tr style=\"text-align: right;\">\n",
       "      <th></th>\n",
       "      <th>customer_id</th>\n",
       "      <th>address</th>\n",
       "      <th>postcode</th>\n",
       "      <th>state</th>\n",
       "      <th>country</th>\n",
       "      <th>property_valuation</th>\n",
       "    </tr>\n",
       "  </thead>\n",
       "  <tbody>\n",
       "    <tr>\n",
       "      <th>0</th>\n",
       "      <td>1</td>\n",
       "      <td>060 Morning Avenue</td>\n",
       "      <td>2016</td>\n",
       "      <td>New South Wales</td>\n",
       "      <td>Australia</td>\n",
       "      <td>10</td>\n",
       "    </tr>\n",
       "    <tr>\n",
       "      <th>1</th>\n",
       "      <td>2</td>\n",
       "      <td>6 Meadow Vale Court</td>\n",
       "      <td>2153</td>\n",
       "      <td>New South Wales</td>\n",
       "      <td>Australia</td>\n",
       "      <td>10</td>\n",
       "    </tr>\n",
       "    <tr>\n",
       "      <th>2</th>\n",
       "      <td>4</td>\n",
       "      <td>0 Holy Cross Court</td>\n",
       "      <td>4211</td>\n",
       "      <td>QLD</td>\n",
       "      <td>Australia</td>\n",
       "      <td>9</td>\n",
       "    </tr>\n",
       "    <tr>\n",
       "      <th>3</th>\n",
       "      <td>5</td>\n",
       "      <td>17979 Del Mar Point</td>\n",
       "      <td>2448</td>\n",
       "      <td>New South Wales</td>\n",
       "      <td>Australia</td>\n",
       "      <td>4</td>\n",
       "    </tr>\n",
       "    <tr>\n",
       "      <th>4</th>\n",
       "      <td>6</td>\n",
       "      <td>9 Oakridge Court</td>\n",
       "      <td>3216</td>\n",
       "      <td>VIC</td>\n",
       "      <td>Australia</td>\n",
       "      <td>9</td>\n",
       "    </tr>\n",
       "  </tbody>\n",
       "</table>\n",
       "</div>"
      ],
      "text/plain": [
       "   customer_id              address  postcode            state    country  \\\n",
       "0            1   060 Morning Avenue      2016  New South Wales  Australia   \n",
       "1            2  6 Meadow Vale Court      2153  New South Wales  Australia   \n",
       "2            4   0 Holy Cross Court      4211              QLD  Australia   \n",
       "3            5  17979 Del Mar Point      2448  New South Wales  Australia   \n",
       "4            6     9 Oakridge Court      3216              VIC  Australia   \n",
       "\n",
       "   property_valuation  \n",
       "0                  10  \n",
       "1                  10  \n",
       "2                   9  \n",
       "3                   4  \n",
       "4                   9  "
      ]
     },
     "execution_count": 51,
     "metadata": {},
     "output_type": "execute_result"
    }
   ],
   "source": [
    "CustomerAddress.head()"
   ]
  },
  {
   "cell_type": "markdown",
   "id": "c65444a3",
   "metadata": {},
   "source": [
    "#### Examine the data set"
   ]
  },
  {
   "cell_type": "code",
   "execution_count": 52,
   "id": "2d8dcaa1",
   "metadata": {},
   "outputs": [
    {
     "data": {
      "text/plain": [
       "(3999, 6)"
      ]
     },
     "execution_count": 52,
     "metadata": {},
     "output_type": "execute_result"
    }
   ],
   "source": [
    "\n",
    "CustomerAddress.shape"
   ]
  },
  {
   "cell_type": "code",
   "execution_count": 53,
   "id": "de38da15",
   "metadata": {},
   "outputs": [
    {
     "name": "stdout",
     "output_type": "stream",
     "text": [
      "<class 'pandas.core.frame.DataFrame'>\n",
      "RangeIndex: 3999 entries, 0 to 3998\n",
      "Data columns (total 6 columns):\n",
      " #   Column              Non-Null Count  Dtype \n",
      "---  ------              --------------  ----- \n",
      " 0   customer_id         3999 non-null   int64 \n",
      " 1   address             3999 non-null   object\n",
      " 2   postcode            3999 non-null   int64 \n",
      " 3   state               3999 non-null   object\n",
      " 4   country             3999 non-null   object\n",
      " 5   property_valuation  3999 non-null   int64 \n",
      "dtypes: int64(3), object(3)\n",
      "memory usage: 187.6+ KB\n"
     ]
    }
   ],
   "source": [
    "CustomerAddress.info()"
   ]
  },
  {
   "cell_type": "code",
   "execution_count": 54,
   "id": "24be20af",
   "metadata": {},
   "outputs": [
    {
     "data": {
      "text/html": [
       "<div>\n",
       "<style scoped>\n",
       "    .dataframe tbody tr th:only-of-type {\n",
       "        vertical-align: middle;\n",
       "    }\n",
       "\n",
       "    .dataframe tbody tr th {\n",
       "        vertical-align: top;\n",
       "    }\n",
       "\n",
       "    .dataframe thead th {\n",
       "        text-align: right;\n",
       "    }\n",
       "</style>\n",
       "<table border=\"1\" class=\"dataframe\">\n",
       "  <thead>\n",
       "    <tr style=\"text-align: right;\">\n",
       "      <th></th>\n",
       "      <th>customer_id</th>\n",
       "      <th>postcode</th>\n",
       "      <th>property_valuation</th>\n",
       "    </tr>\n",
       "  </thead>\n",
       "  <tbody>\n",
       "    <tr>\n",
       "      <th>count</th>\n",
       "      <td>3999.000000</td>\n",
       "      <td>3999.000000</td>\n",
       "      <td>3999.000000</td>\n",
       "    </tr>\n",
       "    <tr>\n",
       "      <th>mean</th>\n",
       "      <td>2003.987997</td>\n",
       "      <td>2985.755939</td>\n",
       "      <td>7.514379</td>\n",
       "    </tr>\n",
       "    <tr>\n",
       "      <th>std</th>\n",
       "      <td>1154.576912</td>\n",
       "      <td>844.878364</td>\n",
       "      <td>2.824663</td>\n",
       "    </tr>\n",
       "    <tr>\n",
       "      <th>min</th>\n",
       "      <td>1.000000</td>\n",
       "      <td>2000.000000</td>\n",
       "      <td>1.000000</td>\n",
       "    </tr>\n",
       "    <tr>\n",
       "      <th>25%</th>\n",
       "      <td>1004.500000</td>\n",
       "      <td>2200.000000</td>\n",
       "      <td>6.000000</td>\n",
       "    </tr>\n",
       "    <tr>\n",
       "      <th>50%</th>\n",
       "      <td>2004.000000</td>\n",
       "      <td>2768.000000</td>\n",
       "      <td>8.000000</td>\n",
       "    </tr>\n",
       "    <tr>\n",
       "      <th>75%</th>\n",
       "      <td>3003.500000</td>\n",
       "      <td>3750.000000</td>\n",
       "      <td>10.000000</td>\n",
       "    </tr>\n",
       "    <tr>\n",
       "      <th>max</th>\n",
       "      <td>4003.000000</td>\n",
       "      <td>4883.000000</td>\n",
       "      <td>12.000000</td>\n",
       "    </tr>\n",
       "  </tbody>\n",
       "</table>\n",
       "</div>"
      ],
      "text/plain": [
       "       customer_id     postcode  property_valuation\n",
       "count  3999.000000  3999.000000         3999.000000\n",
       "mean   2003.987997  2985.755939            7.514379\n",
       "std    1154.576912   844.878364            2.824663\n",
       "min       1.000000  2000.000000            1.000000\n",
       "25%    1004.500000  2200.000000            6.000000\n",
       "50%    2004.000000  2768.000000            8.000000\n",
       "75%    3003.500000  3750.000000           10.000000\n",
       "max    4003.000000  4883.000000           12.000000"
      ]
     },
     "execution_count": 54,
     "metadata": {},
     "output_type": "execute_result"
    }
   ],
   "source": [
    "CustomerAddress.describe()"
   ]
  },
  {
   "cell_type": "markdown",
   "id": "79fe8aea",
   "metadata": {},
   "source": [
    "#### Lets check null values"
   ]
  },
  {
   "cell_type": "code",
   "execution_count": 55,
   "id": "828617c3",
   "metadata": {},
   "outputs": [
    {
     "data": {
      "text/plain": [
       "customer_id           0\n",
       "address               0\n",
       "postcode              0\n",
       "state                 0\n",
       "country               0\n",
       "property_valuation    0\n",
       "dtype: int64"
      ]
     },
     "execution_count": 55,
     "metadata": {},
     "output_type": "execute_result"
    }
   ],
   "source": [
    "CustomerAddress.isnull().sum()"
   ]
  },
  {
   "cell_type": "markdown",
   "id": "c503f8d2",
   "metadata": {},
   "source": [
    "#### Lets Check unique values"
   ]
  },
  {
   "cell_type": "code",
   "execution_count": 56,
   "id": "fd3b108f",
   "metadata": {},
   "outputs": [
    {
     "data": {
      "text/plain": [
       "array(['060 Morning Avenue', '6 Meadow Vale Court', '0 Holy Cross Court',\n",
       "       ..., '87 Crescent Oaks Alley', '8194 Lien Street',\n",
       "       '320 Acker Drive'], dtype=object)"
      ]
     },
     "execution_count": 56,
     "metadata": {},
     "output_type": "execute_result"
    }
   ],
   "source": [
    "CustomerAddress['address'].unique()"
   ]
  },
  {
   "cell_type": "code",
   "execution_count": 57,
   "id": "6ee7f1c5",
   "metadata": {},
   "outputs": [
    {
     "data": {
      "text/plain": [
       "array(['New South Wales', 'QLD', 'VIC', 'NSW', 'Victoria'], dtype=object)"
      ]
     },
     "execution_count": 57,
     "metadata": {},
     "output_type": "execute_result"
    }
   ],
   "source": [
    "CustomerAddress['state'].unique()"
   ]
  },
  {
   "cell_type": "markdown",
   "id": "b2b36e0b",
   "metadata": {},
   "source": [
    "#### Lets replace the values"
   ]
  },
  {
   "cell_type": "code",
   "execution_count": 58,
   "id": "f863012f",
   "metadata": {},
   "outputs": [],
   "source": [
    "CustomerAddress['state'].replace('QLD','Queensland',inplace = True)\n",
    "CustomerAddress['state'].replace('VIC','Victoria',inplace = True)\n",
    "CustomerAddress['state'].replace('NSW','New South Wales',inplace = True)"
   ]
  },
  {
   "cell_type": "markdown",
   "id": "0745ad2f",
   "metadata": {},
   "source": [
    "#### Lets check the data set"
   ]
  },
  {
   "cell_type": "code",
   "execution_count": 59,
   "id": "c1b4f1e7",
   "metadata": {},
   "outputs": [
    {
     "data": {
      "text/plain": [
       "array(['New South Wales', 'Queensland', 'Victoria'], dtype=object)"
      ]
     },
     "execution_count": 59,
     "metadata": {},
     "output_type": "execute_result"
    }
   ],
   "source": [
    "CustomerAddress['state'].unique()"
   ]
  },
  {
   "cell_type": "code",
   "execution_count": 60,
   "id": "232072ec",
   "metadata": {},
   "outputs": [
    {
     "data": {
      "text/plain": [
       "array(['Australia'], dtype=object)"
      ]
     },
     "execution_count": 60,
     "metadata": {},
     "output_type": "execute_result"
    }
   ],
   "source": [
    "CustomerAddress['country'].unique()"
   ]
  },
  {
   "cell_type": "markdown",
   "id": "195b37ef",
   "metadata": {},
   "source": [
    "#### Exporting dataframe to csv file in local system\n"
   ]
  },
  {
   "cell_type": "code",
   "execution_count": 67,
   "id": "f15246ad",
   "metadata": {},
   "outputs": [],
   "source": [
    "# create an ExcelWriter object to write to a single Excel file\n",
    "with pd.ExcelWriter('C:\\\\Users\\\\sanje\\\\OneDrive\\\\Desktop\\\\merged_data.xlsx') as writer:\n",
    "    \n",
    "    # write the transaction data to a sheet named 'Transaction'\n",
    "    transaction.to_excel(writer, sheet_name='Transaction', index=False)\n",
    "    \n",
    "    # write the CustomerDemographic data to a sheet named 'CustomerDemographic'\n",
    "    CustomerDemographic.to_excel(writer, sheet_name='CustomerDemographic', index=False)\n",
    "    \n",
    "    # write the CustomerAddress data to a sheet named 'CustomerAddress'\n",
    "    CustomerAddress.to_excel(writer, sheet_name='CustomerAddress', index=False)"
   ]
  },
  {
   "cell_type": "code",
   "execution_count": null,
   "id": "d1b9b113",
   "metadata": {},
   "outputs": [],
   "source": [
    "\n",
    "\n"
   ]
  }
 ],
 "metadata": {
  "kernelspec": {
   "display_name": "Python 3 (ipykernel)",
   "language": "python",
   "name": "python3"
  },
  "language_info": {
   "codemirror_mode": {
    "name": "ipython",
    "version": 3
   },
   "file_extension": ".py",
   "mimetype": "text/x-python",
   "name": "python",
   "nbconvert_exporter": "python",
   "pygments_lexer": "ipython3",
   "version": "3.10.9"
  }
 },
 "nbformat": 4,
 "nbformat_minor": 5
}
